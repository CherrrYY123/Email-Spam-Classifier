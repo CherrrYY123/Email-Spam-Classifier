{
 "cells": [
  {
   "cell_type": "code",
   "execution_count": 1,
   "id": "d8639e66-073b-45ed-b27e-cd5bdb83f5c9",
   "metadata": {},
   "outputs": [
    {
     "name": "stderr",
     "output_type": "stream",
     "text": [
      "[nltk_data] Downloading package wordnet to\n",
      "[nltk_data]     C:\\Users\\roych\\AppData\\Roaming\\nltk_data...\n",
      "[nltk_data]   Package wordnet is already up-to-date!\n"
     ]
    },
    {
     "data": {
      "text/plain": [
       "True"
      ]
     },
     "execution_count": 1,
     "metadata": {},
     "output_type": "execute_result"
    }
   ],
   "source": [
    "import nltk\n",
    "import pickle\n",
    "import pandas as pd\n",
    "import re\n",
    "import string\n",
    "from nltk.stem import WordNetLemmatizer \n",
    "nltk.download('wordnet')"
   ]
  },
  {
   "cell_type": "code",
   "execution_count": 2,
   "id": "287f7163-e254-4c02-ad5c-04305de7005f",
   "metadata": {},
   "outputs": [],
   "source": [
    "# Reading the dataset\n",
    "df = pd.read_csv('combined_data.csv')"
   ]
  },
  {
   "cell_type": "code",
   "execution_count": 3,
   "id": "bc6002e9-aab3-4f15-9583-f63a96ef607e",
   "metadata": {},
   "outputs": [
    {
     "data": {
      "text/html": [
       "<div>\n",
       "<style scoped>\n",
       "    .dataframe tbody tr th:only-of-type {\n",
       "        vertical-align: middle;\n",
       "    }\n",
       "\n",
       "    .dataframe tbody tr th {\n",
       "        vertical-align: top;\n",
       "    }\n",
       "\n",
       "    .dataframe thead th {\n",
       "        text-align: right;\n",
       "    }\n",
       "</style>\n",
       "<table border=\"1\" class=\"dataframe\">\n",
       "  <thead>\n",
       "    <tr style=\"text-align: right;\">\n",
       "      <th></th>\n",
       "      <th>label</th>\n",
       "      <th>text</th>\n",
       "    </tr>\n",
       "  </thead>\n",
       "  <tbody>\n",
       "    <tr>\n",
       "      <th>0</th>\n",
       "      <td>1</td>\n",
       "      <td>ounce feather bowl hummingbird opec moment ala...</td>\n",
       "    </tr>\n",
       "    <tr>\n",
       "      <th>1</th>\n",
       "      <td>1</td>\n",
       "      <td>wulvob get your medircations online qnb ikud v...</td>\n",
       "    </tr>\n",
       "    <tr>\n",
       "      <th>2</th>\n",
       "      <td>0</td>\n",
       "      <td>computer connection from cnn com wednesday es...</td>\n",
       "    </tr>\n",
       "    <tr>\n",
       "      <th>3</th>\n",
       "      <td>1</td>\n",
       "      <td>university degree obtain a prosperous future m...</td>\n",
       "    </tr>\n",
       "    <tr>\n",
       "      <th>4</th>\n",
       "      <td>0</td>\n",
       "      <td>thanks for all your answers guys i know i shou...</td>\n",
       "    </tr>\n",
       "  </tbody>\n",
       "</table>\n",
       "</div>"
      ],
      "text/plain": [
       "   label                                               text\n",
       "0      1  ounce feather bowl hummingbird opec moment ala...\n",
       "1      1  wulvob get your medircations online qnb ikud v...\n",
       "2      0   computer connection from cnn com wednesday es...\n",
       "3      1  university degree obtain a prosperous future m...\n",
       "4      0  thanks for all your answers guys i know i shou..."
      ]
     },
     "execution_count": 3,
     "metadata": {},
     "output_type": "execute_result"
    }
   ],
   "source": [
    "df.head()"
   ]
  },
  {
   "cell_type": "code",
   "execution_count": 4,
   "id": "92301550-b9fc-404f-97a6-37ea60bb3a58",
   "metadata": {},
   "outputs": [
    {
     "data": {
      "text/plain": [
       "83448"
      ]
     },
     "execution_count": 4,
     "metadata": {},
     "output_type": "execute_result"
    }
   ],
   "source": [
    "len(df)"
   ]
  },
  {
   "cell_type": "code",
   "execution_count": 5,
   "id": "6b20439f-d604-4ed7-b772-fc0e400816df",
   "metadata": {},
   "outputs": [],
   "source": [
    "#df = dataset[0:10000]"
   ]
  },
  {
   "cell_type": "code",
   "execution_count": 6,
   "id": "984d55bc-bd65-47ea-a2fc-cee7f4361ff7",
   "metadata": {},
   "outputs": [],
   "source": [
    "stopwords = nltk.corpus.stopwords.words('english')\n",
    "lemmatizer = WordNetLemmatizer() "
   ]
  },
  {
   "cell_type": "code",
   "execution_count": 7,
   "id": "52fcd01e-5711-4d14-b4db-24caf4f46e7b",
   "metadata": {},
   "outputs": [
    {
     "name": "stderr",
     "output_type": "stream",
     "text": [
      "[nltk_data] Downloading package stopwords to\n",
      "[nltk_data]     C:\\Users\\roych\\AppData\\Roaming\\nltk_data...\n",
      "[nltk_data]   Package stopwords is already up-to-date!\n"
     ]
    }
   ],
   "source": [
    "# Preprocessing\n",
    "nltk.download('stopwords')\n",
    "corpus = []\n",
    "for i in range(0, 83448):\n",
    "    result = re.sub('[^a-zA-Z]', ' ', df['text'][i])\n",
    "    result = result.lower()\n",
    "    result = result.split()\n",
    "    result = [lemmatizer.lemmatize(word) for word in result if not word in set(stopwords)]\n",
    "    result = ' '.join(result)\n",
    "    corpus.append(result)"
   ]
  },
  {
   "cell_type": "code",
   "execution_count": 8,
   "id": "1e19feaa-e20f-453d-88bd-709ceca79da2",
   "metadata": {},
   "outputs": [
    {
     "data": {
      "text/plain": [
       "array([[1,\n",
       "        'my dear fellow do you feel insecure about your penis size you need our new improved megadik penis enlargement pills please read on did you know megadik was featured in leading mens magazines such as fhm maxim plus many others and rated no escapenumber choice for penis enlargement » gain escapenumber inches in length » increase your penis width girth by upto escapenumber » produce stronger rock hard erections » escapenumber safe to take with no side effects » doctor approved and recommended » fast shipping worldwide you have nothing to lose just a lot to gain http slasy net regards escapelong remains in escapelong use escapenumberf milliescapenumberns escapenumberf peescapenumberple in this wescapenumberrld i am escapelong man and alescapenumberng with all thescapenumberse milliescapenumberns although far from perfect especially in that it precludes a vast waldron']],\n",
       "      dtype=object)"
      ]
     },
     "execution_count": 8,
     "metadata": {},
     "output_type": "execute_result"
    }
   ],
   "source": [
    "df[10:11].values"
   ]
  },
  {
   "cell_type": "code",
   "execution_count": 9,
   "id": "4fc5bf02-5ad6-47b6-b6ac-b6f17d17f26d",
   "metadata": {},
   "outputs": [
    {
     "data": {
      "text/plain": [
       "array([1,\n",
       "       'my dear fellow do you feel insecure about your penis size you need our new improved megadik penis enlargement pills please read on did you know megadik was featured in leading mens magazines such as fhm maxim plus many others and rated no escapenumber choice for penis enlargement » gain escapenumber inches in length » increase your penis width girth by upto escapenumber » produce stronger rock hard erections » escapenumber safe to take with no side effects » doctor approved and recommended » fast shipping worldwide you have nothing to lose just a lot to gain http slasy net regards escapelong remains in escapelong use escapenumberf milliescapenumberns escapenumberf peescapenumberple in this wescapenumberrld i am escapelong man and alescapenumberng with all thescapenumberse milliescapenumberns although far from perfect especially in that it precludes a vast waldron'],\n",
       "      dtype=object)"
      ]
     },
     "execution_count": 9,
     "metadata": {},
     "output_type": "execute_result"
    }
   ],
   "source": [
    "df.iloc[10].values"
   ]
  },
  {
   "cell_type": "code",
   "execution_count": 10,
   "id": "c9154e25-26b9-4a78-af41-3dd409719ad1",
   "metadata": {},
   "outputs": [
    {
     "data": {
      "text/plain": [
       "['dear fellow feel insecure penis size need new improved megadik penis enlargement pill please read know megadik featured leading men magazine fhm maxim plus many others rated escapenumber choice penis enlargement gain escapenumber inch length increase penis width girth upto escapenumber produce stronger rock hard erection escapenumber safe take side effect doctor approved recommended fast shipping worldwide nothing lose lot gain http slasy net regard escapelong remains escapelong use escapenumberf milliescapenumberns escapenumberf peescapenumberple wescapenumberrld escapelong man alescapenumberng thescapenumberse milliescapenumberns although far perfect especially precludes vast waldron']"
      ]
     },
     "execution_count": 10,
     "metadata": {},
     "output_type": "execute_result"
    }
   ],
   "source": [
    "corpus[10:11]"
   ]
  },
  {
   "cell_type": "code",
   "execution_count": 11,
   "id": "71748121-7263-4322-8015-91aeabd4c38f",
   "metadata": {},
   "outputs": [],
   "source": [
    "from sklearn.feature_extraction.text import CountVectorizer"
   ]
  },
  {
   "cell_type": "code",
   "execution_count": 12,
   "id": "691671f4-51ac-413d-ae87-7867d6d76eeb",
   "metadata": {},
   "outputs": [],
   "source": [
    "# Creating the Bag of Words model\n",
    "cv = CountVectorizer(max_features = 2500)\n",
    "\n",
    "# Fitting the vectorizer to the corpus\n",
    "cv.fit(corpus)\n",
    "\n",
    "# Transforming the corpus into the bag of words model\n",
    "X = cv.transform(corpus).toarray()\n",
    "\n",
    "# Extracting the dependent variable\n",
    "y = df.iloc[:, 0].values\n"
   ]
  },
  {
   "cell_type": "code",
   "execution_count": 13,
   "id": "2c38b236-f606-42d4-a544-77ec78fa0047",
   "metadata": {},
   "outputs": [
    {
     "data": {
      "text/plain": [
       "array([1, 1, 0, ..., 1, 0, 1], dtype=int64)"
      ]
     },
     "execution_count": 13,
     "metadata": {},
     "output_type": "execute_result"
    }
   ],
   "source": [
    "y"
   ]
  },
  {
   "cell_type": "code",
   "execution_count": 14,
   "id": "82be6843-0b77-4b7a-8c51-4019dc6a122c",
   "metadata": {},
   "outputs": [
    {
     "data": {
      "text/plain": [
       "array([[0, 0, 0, ..., 0, 0, 0],\n",
       "       [0, 0, 0, ..., 0, 0, 0],\n",
       "       [0, 0, 0, ..., 0, 0, 0],\n",
       "       ...,\n",
       "       [0, 0, 0, ..., 0, 0, 0],\n",
       "       [0, 0, 0, ..., 0, 0, 0],\n",
       "       [0, 0, 0, ..., 0, 0, 0]], dtype=int64)"
      ]
     },
     "execution_count": 14,
     "metadata": {},
     "output_type": "execute_result"
    }
   ],
   "source": [
    "X"
   ]
  },
  {
   "cell_type": "code",
   "execution_count": 15,
   "id": "58d679c0-c7c8-4d53-96a1-7c8e1533061f",
   "metadata": {},
   "outputs": [
    {
     "data": {
      "text/plain": [
       "(83448, 2500)"
      ]
     },
     "execution_count": 15,
     "metadata": {},
     "output_type": "execute_result"
    }
   ],
   "source": [
    "X.shape"
   ]
  },
  {
   "cell_type": "code",
   "execution_count": 16,
   "id": "4726e89f-5b56-4650-be51-9264f05ab96c",
   "metadata": {},
   "outputs": [
    {
     "name": "stdout",
     "output_type": "stream",
     "text": [
      "2500\n"
     ]
    }
   ],
   "source": [
    "print(len(X[10]))"
   ]
  },
  {
   "cell_type": "code",
   "execution_count": 17,
   "id": "19f94e42-3b92-425b-a709-57c20d450021",
   "metadata": {},
   "outputs": [],
   "source": [
    "from sklearn.model_selection import train_test_split\n",
    "# Splitting the dataset into the Training set and Test set\n",
    "X_train, X_test, y_train, y_test = train_test_split(X, y, test_size = 0.25, random_state = 7)"
   ]
  },
  {
   "cell_type": "code",
   "execution_count": 18,
   "id": "d65f5410-53ab-448d-912e-a3de25b1b6d4",
   "metadata": {},
   "outputs": [
    {
     "name": "stdout",
     "output_type": "stream",
     "text": [
      "(62586, 2500)\n",
      "(62586,)\n",
      "(20862, 2500)\n",
      "(20862,)\n"
     ]
    }
   ],
   "source": [
    "print(X_train.shape)\n",
    "print(y_train.shape)\n",
    "print(X_test.shape)\n",
    "print(y_test.shape)"
   ]
  },
  {
   "cell_type": "code",
   "execution_count": 19,
   "id": "3083da35-f839-4f82-9ace-a95a4b0149e7",
   "metadata": {},
   "outputs": [],
   "source": [
    "#using Random Forest Classifier\n",
    "\n",
    "from sklearn.ensemble import RandomForestClassifier\n",
    "# Random Forest\n",
    "classifier = RandomForestClassifier(n_estimators = 20, criterion = 'entropy', random_state = 7)\n",
    "classifier.fit(X_train, y_train)\n",
    "y_pred = classifier.predict(X_test)"
   ]
  },
  {
   "cell_type": "code",
   "execution_count": 20,
   "id": "c6e00b4d-dde7-4924-b86f-df95653939fb",
   "metadata": {},
   "outputs": [],
   "source": [
    "#accuracy score and classification report\n",
    "\n",
    "from sklearn.metrics import accuracy_score\n",
    "from sklearn.metrics import classification_report"
   ]
  },
  {
   "cell_type": "code",
   "execution_count": 21,
   "id": "5f8db084-7d34-4824-808f-16121b6f0ee3",
   "metadata": {},
   "outputs": [
    {
     "data": {
      "text/plain": [
       "0.9779503403317036"
      ]
     },
     "execution_count": 21,
     "metadata": {},
     "output_type": "execute_result"
    }
   ],
   "source": [
    "accuracy_score(y_test, y_pred)"
   ]
  },
  {
   "cell_type": "code",
   "execution_count": 22,
   "id": "900becee-3d6d-4866-bd91-3e376fbd42a8",
   "metadata": {},
   "outputs": [
    {
     "name": "stdout",
     "output_type": "stream",
     "text": [
      "              precision    recall  f1-score   support\n",
      "\n",
      "           0       0.98      0.98      0.98      9881\n",
      "           1       0.98      0.98      0.98     10981\n",
      "\n",
      "    accuracy                           0.98     20862\n",
      "   macro avg       0.98      0.98      0.98     20862\n",
      "weighted avg       0.98      0.98      0.98     20862\n",
      "\n"
     ]
    }
   ],
   "source": [
    "print(classification_report(y_test, y_pred))"
   ]
  },
  {
   "cell_type": "code",
   "execution_count": 23,
   "id": "1ca7d6f9-4e6a-4ff8-b4f7-f388475aa381",
   "metadata": {},
   "outputs": [],
   "source": [
    "#doing a test prediction\n",
    "\n",
    "test = [\"promo mail get flat 50% off on this, get many offers in store and see all stock by yourself\"]"
   ]
  },
  {
   "cell_type": "code",
   "execution_count": 24,
   "id": "fadb3d5f-e219-4f15-8791-50b792d239f8",
   "metadata": {},
   "outputs": [],
   "source": [
    "review = re.sub('[^a-zA-Z]', ' ', test[0])\n",
    "review = review.lower()\n",
    "review = review.split()\n",
    "review = [lemmatizer.lemmatize(word) for word in review if not word in set(stopwords)]\n",
    "review = ' '.join(review)\n",
    "t1=[review]"
   ]
  },
  {
   "cell_type": "code",
   "execution_count": 25,
   "id": "22db1123-52f3-4755-b463-2514adf5620f",
   "metadata": {},
   "outputs": [
    {
     "data": {
      "text/plain": [
       "['promo mail get flat get many offer store see stock']"
      ]
     },
     "execution_count": 25,
     "metadata": {},
     "output_type": "execute_result"
    }
   ],
   "source": [
    "t1"
   ]
  },
  {
   "cell_type": "code",
   "execution_count": 26,
   "id": "0b5132eb-ba2e-4a97-96a2-2448b388dc72",
   "metadata": {},
   "outputs": [],
   "source": [
    "#transforming for using on the model (using the count vectorizer)\n",
    "\n",
    "test_vec = cv.transform(t1)"
   ]
  },
  {
   "cell_type": "code",
   "execution_count": 27,
   "id": "4c590b22-f9bb-418e-afc6-8b1312a7b1dc",
   "metadata": {},
   "outputs": [
    {
     "data": {
      "text/plain": [
       "<1x2500 sparse matrix of type '<class 'numpy.int64'>'\n",
       "\twith 7 stored elements in Compressed Sparse Row format>"
      ]
     },
     "execution_count": 27,
     "metadata": {},
     "output_type": "execute_result"
    }
   ],
   "source": [
    "test_vec[0]"
   ]
  },
  {
   "cell_type": "code",
   "execution_count": 28,
   "id": "9a0446bf-0dcf-491c-85a7-1f945a43f55d",
   "metadata": {},
   "outputs": [
    {
     "data": {
      "text/plain": [
       "1"
      ]
     },
     "execution_count": 28,
     "metadata": {},
     "output_type": "execute_result"
    }
   ],
   "source": [
    "#spam 1\n",
    "#ham 0\n",
    "classifier.predict(test_vec)[0]"
   ]
  },
  {
   "cell_type": "code",
   "execution_count": 29,
   "id": "d7eb3fa0-3bf1-419f-b6e7-44cfadf01ed7",
   "metadata": {},
   "outputs": [
    {
     "name": "stdout",
     "output_type": "stream",
     "text": [
      "  (0, 936)\t2\n",
      "  (0, 1306)\t1\n",
      "  (0, 1326)\t1\n",
      "  (0, 1503)\t1\n",
      "  (0, 1964)\t1\n",
      "  (0, 2137)\t1\n",
      "  (0, 2141)\t1\n"
     ]
    }
   ],
   "source": [
    "print(test_vec)"
   ]
  },
  {
   "cell_type": "code",
   "execution_count": null,
   "id": "8e66b841-804c-4c1d-8cdd-341b28313edb",
   "metadata": {},
   "outputs": [],
   "source": []
  },
  {
   "cell_type": "code",
   "execution_count": 30,
   "id": "d631d624-8107-43fa-a443-ddb109164c6e",
   "metadata": {},
   "outputs": [],
   "source": [
    "#doing a test prediction\n",
    "\n",
    "test = [\"Dear Ms. Smith, I am writing to request personal leave from July 15th to July 20th. During this period, I will be attending a family event out of town. I understand the impact of my absence and will ensure that my responsibilities are covered during this time. If there are any specific procedures or forms required for leave approval, please let me know. Thank you for your understanding, and I appreciate your prompt attention to this matter.\"]"
   ]
  },
  {
   "cell_type": "code",
   "execution_count": 31,
   "id": "46d0272e-2f17-43c3-8b8f-5952a771015a",
   "metadata": {},
   "outputs": [],
   "source": [
    "review = re.sub('[^a-zA-Z]', ' ', test[0])\n",
    "review = review.lower()\n",
    "review = review.split()\n",
    "review = [lemmatizer.lemmatize(word) for word in review if not word in set(stopwords)]\n",
    "review = ' '.join(review)\n",
    "t1=[review]"
   ]
  },
  {
   "cell_type": "code",
   "execution_count": 32,
   "id": "b6f2000b-e777-47b2-a9ef-a63711139f8d",
   "metadata": {},
   "outputs": [
    {
     "data": {
      "text/plain": [
       "['dear m smith writing request personal leave july th july th period attending family event town understand impact absence ensure responsibility covered time specific procedure form required leave approval please let know thank understanding appreciate prompt attention matter']"
      ]
     },
     "execution_count": 32,
     "metadata": {},
     "output_type": "execute_result"
    }
   ],
   "source": [
    "t1"
   ]
  },
  {
   "cell_type": "code",
   "execution_count": 33,
   "id": "7fae21e5-a916-4ae7-92e0-357fe917694c",
   "metadata": {},
   "outputs": [],
   "source": [
    "#transforming for using on the model (using the count vectorizer)\n",
    "\n",
    "test_vec = cv.transform(t1)"
   ]
  },
  {
   "cell_type": "code",
   "execution_count": 34,
   "id": "85d121d1-95e3-47db-ade0-d8ff85c9e60c",
   "metadata": {},
   "outputs": [
    {
     "name": "stdout",
     "output_type": "stream",
     "text": [
      "  (0, 111)\t1\n",
      "  (0, 115)\t1\n",
      "  (0, 151)\t1\n",
      "  (0, 481)\t1\n",
      "  (0, 529)\t1\n",
      "  (0, 708)\t1\n",
      "  (0, 761)\t1\n",
      "  (0, 820)\t1\n",
      "  (0, 890)\t1\n",
      "  (0, 1071)\t1\n",
      "  (0, 1167)\t2\n",
      "  (0, 1190)\t1\n",
      "  (0, 1224)\t2\n",
      "  (0, 1233)\t1\n",
      "  (0, 1342)\t1\n",
      "  (0, 1606)\t1\n",
      "  (0, 1610)\t1\n",
      "  (0, 1646)\t1\n",
      "  (0, 1723)\t1\n",
      "  (0, 1745)\t1\n",
      "  (0, 1864)\t1\n",
      "  (0, 1867)\t1\n",
      "  (0, 1878)\t1\n",
      "  (0, 2054)\t1\n",
      "  (0, 2086)\t1\n",
      "  (0, 2236)\t2\n",
      "  (0, 2238)\t1\n",
      "  (0, 2258)\t1\n",
      "  (0, 2284)\t1\n",
      "  (0, 2331)\t1\n",
      "  (0, 2332)\t1\n",
      "  (0, 2480)\t1\n"
     ]
    }
   ],
   "source": [
    "print(test_vec)"
   ]
  },
  {
   "cell_type": "code",
   "execution_count": 35,
   "id": "d91e361f-45b0-4637-9797-5b6024094301",
   "metadata": {},
   "outputs": [
    {
     "data": {
      "text/plain": [
       "0"
      ]
     },
     "execution_count": 35,
     "metadata": {},
     "output_type": "execute_result"
    }
   ],
   "source": [
    "#spam 1\n",
    "#ham 0\n",
    "classifier.predict(test_vec)[0]"
   ]
  },
  {
   "cell_type": "code",
   "execution_count": 36,
   "id": "a07e9cae-1faa-47fc-bb0b-56084cfebba5",
   "metadata": {},
   "outputs": [],
   "source": [
    "# Saving the CountVectorizer\n",
    "with open('count_vectorizer.pkl', 'wb') as f:\n",
    "    pickle.dump(cv, f)\n",
    "\n",
    "# Saving the classifier\n",
    "with open('classifier.pkl', 'wb') as f:\n",
    "    pickle.dump(classifier, f)"
   ]
  }
 ],
 "metadata": {
  "kernelspec": {
   "display_name": "Python 3 (ipykernel)",
   "language": "python",
   "name": "python3"
  },
  "language_info": {
   "codemirror_mode": {
    "name": "ipython",
    "version": 3
   },
   "file_extension": ".py",
   "mimetype": "text/x-python",
   "name": "python",
   "nbconvert_exporter": "python",
   "pygments_lexer": "ipython3",
   "version": "3.11.7"
  }
 },
 "nbformat": 4,
 "nbformat_minor": 5
}
